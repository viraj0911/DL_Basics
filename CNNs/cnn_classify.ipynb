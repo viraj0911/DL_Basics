{
 "cells": [
  {
   "cell_type": "code",
   "execution_count": 13,
   "metadata": {},
   "outputs": [],
   "source": [
    "import torch\n",
    "import torch.nn as nn\n",
    "from torchvision import datasets, transforms\n",
    "import cv2\n"
   ]
  },
  {
   "cell_type": "code",
   "execution_count": 2,
   "metadata": {},
   "outputs": [],
   "source": [
    "transform = transforms.Compose([\n",
    "    transforms.Resize((32,32)),\n",
    "    transforms.ToTensor(),\n",
    "    transforms.Normalize((0.5,0.5,0.5), (0.5,0.5,0.5))\n",
    "])"
   ]
  },
  {
   "cell_type": "code",
   "execution_count": 3,
   "metadata": {},
   "outputs": [
    {
     "name": "stdout",
     "output_type": "stream",
     "text": [
      "Files already downloaded and verified\n"
     ]
    }
   ],
   "source": [
    "train_dataset = datasets.CIFAR10(root = 'data', train = True, transform=transform, download= True)"
   ]
  },
  {
   "cell_type": "code",
   "execution_count": 4,
   "metadata": {},
   "outputs": [
    {
     "name": "stdout",
     "output_type": "stream",
     "text": [
      "Files already downloaded and verified\n"
     ]
    }
   ],
   "source": [
    "test_dataset = datasets.CIFAR10(root = 'data', train = False, transform = transform, download = True)"
   ]
  },
  {
   "cell_type": "code",
   "execution_count": 5,
   "metadata": {},
   "outputs": [],
   "source": [
    "train_loader = torch.utils.data.DataLoader(train_dataset, batch_size= 64, shuffle = True)\n",
    "test_loader = torch.utils.data.DataLoader(test_dataset, batch_size = 64, shuffle = True)"
   ]
  },
  {
   "cell_type": "code",
   "execution_count": 6,
   "metadata": {},
   "outputs": [
    {
     "name": "stdout",
     "output_type": "stream",
     "text": [
      "torch.Size([64, 3, 32, 32])\n"
     ]
    }
   ],
   "source": [
    "for batch in train_loader:\n",
    "    images, labels = batch\n",
    "    print(images.size())\n",
    "    break"
   ]
  },
  {
   "cell_type": "code",
   "execution_count": 7,
   "metadata": {},
   "outputs": [],
   "source": [
    "class CNNModel(nn.Module):\n",
    "    def __init__(self):\n",
    "        super(CNNModel, self).__init__()\n",
    "\n",
    "        self.cnn1 = nn.Conv2d(3,9,3,1)\n",
    "        self.cnn2 = nn.Conv2d(9,27,3,1)\n",
    "        self.cnn3 = nn.Conv2d(27,54,3,1)\n",
    "        self.mp = nn.MaxPool2d(2,2)\n",
    "        self.relu = nn.ReLU()\n",
    "        self.fc = nn.Sequential(\n",
    "            nn.Linear(54*4*4,4),\n",
    "            nn.ReLU(),\n",
    "            nn.Linear(4,16),\n",
    "            nn.ReLU(),\n",
    "            nn.Linear(16,10),\n",
    "        )\n",
    "\n",
    "    def forward(self, x):\n",
    "        x = self.cnn1(x)\n",
    "        x = self.relu(x)\n",
    "        x = self.mp(x)\n",
    "        x = self.cnn2(x)\n",
    "        x = self.relu(x)\n",
    "        x = self.mp(x)\n",
    "        x = self.cnn3(x)\n",
    "        x = self.relu(x)\n",
    "        x = x.view(x.size(0), -1)\n",
    "        x = self.fc(x)\n",
    "\n",
    "        return x\n",
    "        \n"
   ]
  },
  {
   "cell_type": "code",
   "execution_count": 8,
   "metadata": {},
   "outputs": [
    {
     "name": "stdout",
     "output_type": "stream",
     "text": [
      "Epoch [1/100], Loss: 2.3270\n",
      "Epoch [2/100], Loss: 2.2459\n",
      "Epoch [3/100], Loss: 2.3541\n",
      "Epoch [4/100], Loss: 2.0167\n",
      "Epoch [5/100], Loss: 1.8683\n",
      "Epoch [6/100], Loss: 1.9947\n",
      "Epoch [7/100], Loss: 1.8389\n",
      "Epoch [8/100], Loss: 1.9198\n",
      "Epoch [9/100], Loss: 1.5633\n",
      "Epoch [10/100], Loss: 1.8190\n",
      "Epoch [11/100], Loss: 1.9674\n",
      "Epoch [12/100], Loss: 1.8804\n",
      "Epoch [13/100], Loss: 1.6202\n",
      "Epoch [14/100], Loss: 1.2895\n",
      "Epoch [15/100], Loss: 1.8376\n",
      "Epoch [16/100], Loss: 1.5022\n",
      "Epoch [17/100], Loss: 1.6492\n",
      "Epoch [18/100], Loss: 1.7067\n",
      "Epoch [19/100], Loss: 1.2387\n",
      "Epoch [20/100], Loss: 2.0119\n",
      "Epoch [21/100], Loss: 1.2682\n",
      "Epoch [22/100], Loss: 1.7193\n",
      "Epoch [23/100], Loss: 1.0650\n",
      "Epoch [24/100], Loss: 1.2132\n",
      "Epoch [25/100], Loss: 1.5972\n",
      "Epoch [26/100], Loss: 1.4063\n",
      "Epoch [27/100], Loss: 1.0898\n",
      "Epoch [28/100], Loss: 1.0410\n",
      "Epoch [29/100], Loss: 1.4882\n",
      "Epoch [30/100], Loss: 1.5175\n",
      "Epoch [31/100], Loss: 1.0144\n",
      "Epoch [32/100], Loss: 1.4430\n",
      "Epoch [33/100], Loss: 1.4326\n",
      "Epoch [34/100], Loss: 1.1376\n",
      "Epoch [35/100], Loss: 1.2711\n",
      "Epoch [36/100], Loss: 1.4125\n",
      "Epoch [37/100], Loss: 1.3155\n",
      "Epoch [38/100], Loss: 1.1107\n",
      "Epoch [39/100], Loss: 1.0861\n",
      "Epoch [40/100], Loss: 1.0798\n",
      "Epoch [41/100], Loss: 1.2876\n",
      "Epoch [42/100], Loss: 1.2049\n",
      "Epoch [43/100], Loss: 0.9758\n",
      "Epoch [44/100], Loss: 1.1843\n",
      "Epoch [45/100], Loss: 1.0821\n",
      "Epoch [46/100], Loss: 1.3311\n",
      "Epoch [47/100], Loss: 1.2463\n",
      "Epoch [48/100], Loss: 1.2707\n",
      "Epoch [49/100], Loss: 1.0329\n",
      "Epoch [50/100], Loss: 1.5382\n",
      "Epoch [51/100], Loss: 1.0030\n",
      "Epoch [52/100], Loss: 1.6083\n",
      "Epoch [53/100], Loss: 0.8673\n",
      "Epoch [54/100], Loss: 1.7306\n",
      "Epoch [55/100], Loss: 1.3141\n",
      "Epoch [56/100], Loss: 1.0700\n",
      "Epoch [57/100], Loss: 0.9406\n",
      "Epoch [58/100], Loss: 0.9754\n",
      "Epoch [59/100], Loss: 1.2345\n",
      "Epoch [60/100], Loss: 0.9251\n",
      "Epoch [61/100], Loss: 1.2377\n",
      "Epoch [62/100], Loss: 1.0189\n",
      "Epoch [63/100], Loss: 0.7722\n",
      "Epoch [64/100], Loss: 0.9110\n",
      "Epoch [65/100], Loss: 1.3202\n",
      "Epoch [66/100], Loss: 1.1654\n",
      "Epoch [67/100], Loss: 0.7994\n",
      "Epoch [68/100], Loss: 1.2152\n",
      "Epoch [69/100], Loss: 0.6764\n",
      "Epoch [70/100], Loss: 1.3499\n",
      "Epoch [71/100], Loss: 0.5827\n",
      "Epoch [72/100], Loss: 0.9896\n",
      "Epoch [73/100], Loss: 1.0688\n",
      "Epoch [74/100], Loss: 1.5404\n",
      "Epoch [75/100], Loss: 1.0687\n",
      "Epoch [76/100], Loss: 0.8245\n",
      "Epoch [77/100], Loss: 0.9172\n",
      "Epoch [78/100], Loss: 0.5896\n",
      "Epoch [79/100], Loss: 1.0296\n",
      "Epoch [80/100], Loss: 0.7030\n",
      "Epoch [81/100], Loss: 0.7173\n",
      "Epoch [82/100], Loss: 1.3088\n",
      "Epoch [83/100], Loss: 0.8300\n",
      "Epoch [84/100], Loss: 1.0977\n",
      "Epoch [85/100], Loss: 1.2122\n",
      "Epoch [86/100], Loss: 1.1373\n",
      "Epoch [87/100], Loss: 0.8626\n",
      "Epoch [88/100], Loss: 0.8303\n",
      "Epoch [89/100], Loss: 0.6069\n",
      "Epoch [90/100], Loss: 0.6137\n",
      "Epoch [91/100], Loss: 0.9993\n",
      "Epoch [92/100], Loss: 0.9053\n",
      "Epoch [93/100], Loss: 0.7234\n",
      "Epoch [94/100], Loss: 0.9753\n",
      "Epoch [95/100], Loss: 0.5953\n",
      "Epoch [96/100], Loss: 0.9633\n",
      "Epoch [97/100], Loss: 0.8084\n",
      "Epoch [98/100], Loss: 0.7412\n",
      "Epoch [99/100], Loss: 0.9792\n",
      "Epoch [100/100], Loss: 0.4692\n"
     ]
    }
   ],
   "source": [
    "\n",
    "model = CNNModel()\n",
    "criterion = nn.CrossEntropyLoss()\n",
    "optimizer = torch.optim.SGD(model.parameters(), lr=0.001, weight_decay = 0.005, momentum = 0.9)  \n",
    "\n",
    "epochs = 100\n",
    "for epoch in range(epochs):\n",
    "    #epoch_losses = []\n",
    "    for i, data in enumerate(train_loader):\n",
    "\n",
    "        inputs, labels = data\n",
    "\n",
    "        outputs = model(inputs)\n",
    "        loss = criterion(outputs,labels)\n",
    "\n",
    "        optimizer.zero_grad()\n",
    "        loss.backward()\n",
    "        optimizer.step()\n",
    "\n",
    "        #epoch_losses.append(loss.item())\n",
    "    \n",
    "    \n",
    "    # Print average loss for the entire epoch\n",
    "    # avg_loss = sum(epoch_losses) / len(epoch_losses)\n",
    "    # print(f'Epoch [{epoch+1}/{epochs}], Average Loss: {avg_loss:.4f}')\n",
    "\n",
    "    print('Epoch [{}/{}], Loss: {:.4f}'.format(epoch+1, epochs, loss.item()))\n",
    "\n"
   ]
  },
  {
   "cell_type": "code",
   "execution_count": 9,
   "metadata": {},
   "outputs": [
    {
     "name": "stdout",
     "output_type": "stream",
     "text": [
      "Accuracy of the network on the train images: 69.436 %\n"
     ]
    }
   ],
   "source": [
    "with torch.no_grad():\n",
    "    correct = 0\n",
    "    total = 0\n",
    "    for images, labels in train_loader:\n",
    "        images = images\n",
    "        labels = labels\n",
    "        outputs = model(images)\n",
    "        _, predicted = torch.max(outputs.data, 1)\n",
    "        total += labels.size(0)\n",
    "        correct += (predicted == labels).sum().item()\n",
    "    \n",
    "    print('Accuracy of the network on the train images: {} %'.format(100 * correct / total))\n",
    "\n",
    "\n"
   ]
  }
 ],
 "metadata": {
  "kernelspec": {
   "display_name": "Python 3",
   "language": "python",
   "name": "python3"
  },
  "language_info": {
   "codemirror_mode": {
    "name": "ipython",
    "version": 3
   },
   "file_extension": ".py",
   "mimetype": "text/x-python",
   "name": "python",
   "nbconvert_exporter": "python",
   "pygments_lexer": "ipython3",
   "version": "3.9.19"
  }
 },
 "nbformat": 4,
 "nbformat_minor": 2
}
